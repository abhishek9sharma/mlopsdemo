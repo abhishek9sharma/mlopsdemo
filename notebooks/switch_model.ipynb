{
 "cells": [
  {
   "cell_type": "markdown",
   "id": "2326d642",
   "metadata": {},
   "source": [
    "### Switch Models\n",
    "\n",
    "This notebook provides basic functionality to switch models already trained. An assumption made is that\n",
    "the model references in database and actual model files are in sync\n",
    "\n",
    "- PS: Switching to DL model is buggy esp. after training was done recentlty as GPU memory gets hogged (atleast on my machine)"
   ]
  },
  {
   "cell_type": "code",
   "execution_count": 1,
   "id": "12c998d6",
   "metadata": {},
   "outputs": [],
   "source": [
    "## run this if running locally not requires if you used the docker script\n",
    "## !pip install python-dotenv\n",
    "# from dotenv import load_dotenv\n",
    "# load_dotenv(dotenv_path = '../.env')"
   ]
  },
  {
   "cell_type": "code",
   "execution_count": 2,
   "id": "f95c2d66",
   "metadata": {},
   "outputs": [],
   "source": [
    "import pandas as pd\n",
    "#from mlcore.dbhelper import read_data\n",
    "from mlcore.modelops import get_deployment_hist, get_deployed_model\n",
    "from mlcore.dbhelper import store_data, overwrite_data\n",
    "from mlcore.modelops import load_model"
   ]
  },
  {
   "cell_type": "markdown",
   "id": "c130fa08",
   "metadata": {},
   "source": [
    "### See trained and deployed models"
   ]
  },
  {
   "cell_type": "code",
   "execution_count": 3,
   "id": "f8820d26",
   "metadata": {},
   "outputs": [
    {
     "name": "stderr",
     "output_type": "stream",
     "text": [
      "2022-04-30 05:47:02,708:Loaded model stored at ../models/KNN_model_04_30_2022_05_42_59.mdl\n",
      "2022-04-30 05:47:02,708:Loaded model stored at ../models/KNN_model_04_30_2022_05_42_59.mdl\n"
     ]
    },
    {
     "name": "stdout",
     "output_type": "stream",
     "text": [
      "Deployed Model is :::--> KNN_model_04_30_2022_05_42_59\n"
     ]
    }
   ],
   "source": [
    "# Deployed model\n",
    "deployed_model_name, deployed_model_obj = get_deployed_model()\n",
    "print('Deployed Model is :::--> {}'.format(deployed_model_name))"
   ]
  },
  {
   "cell_type": "code",
   "execution_count": 4,
   "id": "665df1bb",
   "metadata": {},
   "outputs": [
    {
     "data": {
      "text/html": [
       "<div>\n",
       "<style scoped>\n",
       "    .dataframe tbody tr th:only-of-type {\n",
       "        vertical-align: middle;\n",
       "    }\n",
       "\n",
       "    .dataframe tbody tr th {\n",
       "        vertical-align: top;\n",
       "    }\n",
       "\n",
       "    .dataframe thead th {\n",
       "        text-align: right;\n",
       "    }\n",
       "</style>\n",
       "<table border=\"1\" class=\"dataframe\">\n",
       "  <thead>\n",
       "    <tr style=\"text-align: right;\">\n",
       "      <th></th>\n",
       "      <th>index</th>\n",
       "      <th>final_model_name</th>\n",
       "    </tr>\n",
       "  </thead>\n",
       "  <tbody>\n",
       "    <tr>\n",
       "      <th>0</th>\n",
       "      <td>0</td>\n",
       "      <td>KNN_model_11_21_2021_08_21_23</td>\n",
       "    </tr>\n",
       "    <tr>\n",
       "      <th>1</th>\n",
       "      <td>0</td>\n",
       "      <td>N2V_model_11_21_2021_08_21_23</td>\n",
       "    </tr>\n",
       "    <tr>\n",
       "      <th>2</th>\n",
       "      <td>0</td>\n",
       "      <td>SEQDL_LSTM_model_11_21_2021_08_21_23</td>\n",
       "    </tr>\n",
       "    <tr>\n",
       "      <th>3</th>\n",
       "      <td>0</td>\n",
       "      <td>KNN_model_11_21_2021_08_21_23</td>\n",
       "    </tr>\n",
       "    <tr>\n",
       "      <th>4</th>\n",
       "      <td>0</td>\n",
       "      <td>KNN_model_11_21_2021_08_29_05</td>\n",
       "    </tr>\n",
       "    <tr>\n",
       "      <th>5</th>\n",
       "      <td>0</td>\n",
       "      <td>KNN_model_11_21_2021_08_21_23</td>\n",
       "    </tr>\n",
       "    <tr>\n",
       "      <th>6</th>\n",
       "      <td>0</td>\n",
       "      <td>SEQDL_LSTM_model_11_21_2021_08_21_23</td>\n",
       "    </tr>\n",
       "    <tr>\n",
       "      <th>7</th>\n",
       "      <td>0</td>\n",
       "      <td>N2V_model_11_21_2021_08_21_23</td>\n",
       "    </tr>\n",
       "    <tr>\n",
       "      <th>8</th>\n",
       "      <td>0</td>\n",
       "      <td>KNN_model_04_09_2022_07_23_57</td>\n",
       "    </tr>\n",
       "    <tr>\n",
       "      <th>9</th>\n",
       "      <td>0</td>\n",
       "      <td>KNN_model_04_30_2022_05_42_59</td>\n",
       "    </tr>\n",
       "  </tbody>\n",
       "</table>\n",
       "</div>"
      ],
      "text/plain": [
       "   index                      final_model_name\n",
       "0      0         KNN_model_11_21_2021_08_21_23\n",
       "1      0         N2V_model_11_21_2021_08_21_23\n",
       "2      0  SEQDL_LSTM_model_11_21_2021_08_21_23\n",
       "3      0         KNN_model_11_21_2021_08_21_23\n",
       "4      0         KNN_model_11_21_2021_08_29_05\n",
       "5      0         KNN_model_11_21_2021_08_21_23\n",
       "6      0  SEQDL_LSTM_model_11_21_2021_08_21_23\n",
       "7      0         N2V_model_11_21_2021_08_21_23\n",
       "8      0         KNN_model_04_09_2022_07_23_57\n",
       "9      0         KNN_model_04_30_2022_05_42_59"
      ]
     },
     "execution_count": 4,
     "metadata": {},
     "output_type": "execute_result"
    }
   ],
   "source": [
    "# Trained Models \n",
    "prev_trained_models = get_deployment_hist()\n",
    "prev_trained_models"
   ]
  },
  {
   "cell_type": "markdown",
   "id": "7b34a7bf",
   "metadata": {},
   "source": [
    "### See trained and deployed models"
   ]
  },
  {
   "cell_type": "code",
   "execution_count": 5,
   "id": "5bfa0cf7",
   "metadata": {},
   "outputs": [],
   "source": [
    "# Helper Functions which help deploying a model\n",
    "mldbpath = '../data/mldb.sqlite'\n",
    "\n",
    "def update_model(deploy_df):\n",
    "\n",
    "    schema_dict = {\n",
    "        'deployed_model':deploy_df,\n",
    "        'hist_deployed_models':deploy_df,\n",
    "        #'train_report':comparison_result\n",
    "    }\n",
    "    for dkey in schema_dict:\n",
    "        data_to_be_stored = schema_dict[dkey]\n",
    "        if dkey=='deployed_model':\n",
    "             overwrite_data(data_to_be_stored, mldbpath, dkey)\n",
    "        else:\n",
    "            store_data(data_to_be_stored, mldbpath, dkey)\n",
    "\n",
    "def switch_model(model_name):\n",
    "    deployed_model_name, deployed_model_obj = get_deployed_model()\n",
    "    print('Deployed Model currently set to  :::--> {}'.format(deployed_model_name))\n",
    "    if model_name==deployed_model_name:\n",
    "        print('Model :::--> {} is already deployed'.format(deployed_model_name))\n",
    "    \n",
    "    else:\n",
    "        new_model = load_model(model_name)\n",
    "        \n",
    "        deploy_df = pd.DataFrame([[model_name]], \n",
    "                                 columns =['final_model_name'])\n",
    "        update_model(deploy_df)\n",
    "        deployed_model_name, deployed_model_obj = get_deployed_model()\n",
    "        print('Deployed Model updated to  :::--> {}'.format(model_name))\n",
    "        \n"
   ]
  },
  {
   "cell_type": "code",
   "execution_count": 6,
   "id": "885da059",
   "metadata": {},
   "outputs": [
    {
     "name": "stdout",
     "output_type": "stream",
     "text": [
      "Your Can Change to below model names\n",
      "Model Name:::--> KNN_model_11_21_2021_08_21_23\n",
      "Model Name:::--> N2V_model_11_21_2021_08_21_23\n",
      "Model Name:::--> SEQDL_LSTM_model_11_21_2021_08_21_23\n",
      "Model Name:::--> KNN_model_11_21_2021_08_29_05\n",
      "Model Name:::--> KNN_model_04_09_2022_07_23_57\n"
     ]
    }
   ],
   "source": [
    "# Generates a log of models you can switch to\n",
    "prev_trained_models_dict = prev_trained_models['final_model_name'].to_dict()\n",
    "\n",
    "print('Your Can Change to below model names')\n",
    "seen = set([deployed_model_name])\n",
    "for m in prev_trained_models_dict:\n",
    "    model_name = prev_trained_models_dict[m]\n",
    "    if model_name not in seen:  \n",
    "        print('Model Name:::--> {}'.format(model_name))\n",
    "        seen.add(model_name)\n"
   ]
  },
  {
   "cell_type": "code",
   "execution_count": 8,
   "id": "2997ea32",
   "metadata": {},
   "outputs": [
    {
     "name": "stderr",
     "output_type": "stream",
     "text": [
      "2022-04-30 05:48:31,000:Loaded model stored at ../models/SEQDL_LSTM_model_11_21_2021_08_21_23.mdl\n",
      "2022-04-30 05:48:31,000:Loaded model stored at ../models/SEQDL_LSTM_model_11_21_2021_08_21_23.mdl\n",
      "2022-04-30 05:48:34,039:Could not load deployed model it may not exist exception '_UserObject' object has no attribute 'add_slot'\n",
      "2022-04-30 05:48:34,039:Could not load deployed model it may not exist exception '_UserObject' object has no attribute 'add_slot'\n",
      "2022-04-30 05:48:34,139:Loaded model stored at ../models/N2V_model_11_21_2021_08_21_23.mdl\n",
      "2022-04-30 05:48:34,247:Loaded model stored at ../models/N2V_model_11_21_2021_08_21_23.mdl\n",
      "2022-04-30 05:48:34,247:Loaded model stored at ../models/N2V_model_11_21_2021_08_21_23.mdl\n",
      "2022-04-30 05:48:34,247:Loaded model stored at ../models/N2V_model_11_21_2021_08_21_23.mdl\n"
     ]
    },
    {
     "name": "stdout",
     "output_type": "stream",
     "text": [
      "Deployed Model currently set to  :::--> None\n",
      "Deployed Model updated to  :::--> N2V_model_11_21_2021_08_21_23\n"
     ]
    }
   ],
   "source": [
    "# Uncomment Below and Switch based on above info\n",
    "model_to_switch_to = 'N2V_model_11_21_2021_08_21_23'\n",
    "switch_model(model_to_switch_to)"
   ]
  },
  {
   "cell_type": "markdown",
   "id": "63e2793c",
   "metadata": {},
   "source": [
    "### PS: \n",
    " - Swithching to Sequence Model Right After training does now work some time because of OOM error\n",
    " - Does not work properly for tensorflow models "
   ]
  }
 ],
 "metadata": {
  "kernelspec": {
   "display_name": "Python 3",
   "language": "python",
   "name": "python3"
  },
  "language_info": {
   "codemirror_mode": {
    "name": "ipython",
    "version": 3
   },
   "file_extension": ".py",
   "mimetype": "text/x-python",
   "name": "python",
   "nbconvert_exporter": "python",
   "pygments_lexer": "ipython3",
   "version": "3.8.10"
  }
 },
 "nbformat": 4,
 "nbformat_minor": 5
}
