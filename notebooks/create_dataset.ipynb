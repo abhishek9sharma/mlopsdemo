{
 "cells": [
  {
   "cell_type": "code",
   "execution_count": 1,
   "metadata": {},
   "outputs": [],
   "source": [
    "import pandas as pd\n",
    "import numpy as np\n",
    "from faker import Faker\n"
   ]
  },
  {
   "cell_type": "code",
   "execution_count": 2,
   "metadata": {},
   "outputs": [],
   "source": [
    "# UTIL FUNCS TO GENERATE RANDOM DATA\n",
    "fake = Faker()\n",
    "\n",
    "def make_clicks(num):\n",
    "    \n",
    "    device_list = ['mobile', 'desktop', 'tablet']\n",
    "    channel_list = ['direct', 'email', 'search', 'some_adv']\n",
    "    platform_list = ['app', 'web', 'extension']\n",
    "    \n",
    "    fake_clicks = [\n",
    "        {'index':x+1000,\n",
    "         'id':np.random.choice([i for i in range(num)]),\n",
    "         \n",
    "         'user_id':np.random.choice([i for i in range(500)]),\n",
    "         'store_id':np.random.choice([i for i in range(100)]),\n",
    "         \n",
    "         'created_at':fake.date_time_between(start_date = \"-89d\",\n",
    "                                            end_date = \"now\"),\n",
    "         'device':np.random.choice(device_list),\n",
    "         'channel':np.random.choice(channel_list),\n",
    "         'platform':np.random.choice(platform_list),\n",
    "         \n",
    "        }\n",
    "        for x in range(num)\n",
    "    ]\n",
    "        \n",
    "    return fake_clicks\n",
    "\n",
    "\n",
    "def make_stores(num):\n",
    "    \n",
    "    \n",
    "    fake_stores = [\n",
    "        {'id':x,\n",
    "          'merchant_id':np.random.choice([i for i in range(10)]),\n",
    "         \n",
    "        }\n",
    "        for x in range(num)\n",
    "    ]\n",
    "        \n",
    "    return fake_stores\n",
    "\n",
    "\n",
    "\n",
    "def make_users(num):\n",
    "    \n",
    "    \n",
    "    fake_users = [\n",
    "        {'id':x,\n",
    "         'signup_datetime':fake.date_time_between(start_date = \"-88d\",\n",
    "                                            end_date = \"now\"),         \n",
    "         'lifetime_first_purchase_datetime':fake.date_time_between(start_date = \"-1y\",\n",
    "                                            end_date = \"now\"),\n",
    "         \n",
    "        }\n",
    "        for x in range(num)\n",
    "    ]\n",
    "        \n",
    "    return fake_users\n",
    "\n",
    "\n",
    "\n"
   ]
  },
  {
   "cell_type": "code",
   "execution_count": 3,
   "metadata": {},
   "outputs": [],
   "source": [
    "stores_df = pd.DataFrame(make_stores(num=100))\n",
    "stores_df.head()\n",
    "stores_df.to_csv('../data/stores.csv', index = False)"
   ]
  },
  {
   "cell_type": "code",
   "execution_count": 4,
   "metadata": {},
   "outputs": [],
   "source": [
    "clicks_df = pd.DataFrame(make_clicks(num=10000))\n",
    "clicks_df.head()\n",
    "clicks_df.to_csv('../data/clicks.csv', index = False)"
   ]
  },
  {
   "cell_type": "code",
   "execution_count": 5,
   "metadata": {},
   "outputs": [],
   "source": [
    "users_df = pd.DataFrame(make_users(num=500))\n",
    "users_df.head()\n",
    "users_df.to_csv('../data/users.csv', index = False)"
   ]
  }
 ],
 "metadata": {
  "kernelspec": {
   "display_name": "Python 3",
   "language": "python",
   "name": "python3"
  },
  "language_info": {
   "codemirror_mode": {
    "name": "ipython",
    "version": 3
   },
   "file_extension": ".py",
   "mimetype": "text/x-python",
   "name": "python",
   "nbconvert_exporter": "python",
   "pygments_lexer": "ipython3",
   "version": "3.6.9"
  }
 },
 "nbformat": 4,
 "nbformat_minor": 4
}
